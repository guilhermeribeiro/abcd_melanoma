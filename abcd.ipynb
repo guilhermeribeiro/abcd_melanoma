{
 "cells": [
  {
   "cell_type": "markdown",
   "source": [],
   "metadata": {
    "collapsed": false
   }
  },
  {
   "cell_type": "code",
   "execution_count": 1,
   "metadata": {
    "collapsed": true
   },
   "outputs": [],
   "source": [
    "import cv2\n",
    "import numpy as np\n",
    "import pandas as pd\n",
    "import matplotlib.pyplot as plt\n",
    "from matplotlib.offsetbox import AnchoredText\n",
    "import math\n",
    "import os"
   ]
  },
  {
   "cell_type": "code",
   "execution_count": 2,
   "outputs": [],
   "source": [
    "# Directory of melanoma dataset\n",
    "dir = \"D:\\\\Mega\\\\Doutorado-UFG\\\\Disciplinas\\\\Processamento Digital de Imagem\\\\Artigo\\\\complete_mednode_dataset\\\\dataset\\\\\""
   ],
   "metadata": {
    "collapsed": false,
    "pycharm": {
     "name": "#%%\n"
    }
   }
  },
  {
   "cell_type": "code",
   "execution_count": 3,
   "outputs": [],
   "source": [
    "# Function to convert float number in float32 number\n",
    "def np_hist_to_cv(np_histogram_output):\n",
    "    counts, bin_edges = np_histogram_output\n",
    "    return counts.ravel().astype('float32')"
   ],
   "metadata": {
    "collapsed": false,
    "pycharm": {
     "name": "#%%\n"
    }
   }
  },
  {
   "cell_type": "code",
   "execution_count": 4,
   "outputs": [],
   "source": [
    "def extractFeatures(image_gray, radius):\n",
    "    pi = 3.14\n",
    "\n",
    "    G_x = cv2.reduce(image_gray/255, 0, cv2.REDUCE_SUM)\n",
    "    G_y = cv2.reduce(image_gray/255, 1, cv2.REDUCE_SUM)\n",
    "    h1 = np.histogram(G_x)\n",
    "    h2 = np.histogram(G_y.T)\n",
    "\n",
    "    # A feature - Assymetry (less is more assymetric)\n",
    "    a = cv2.compareHist(np_hist_to_cv(h1), np_hist_to_cv(h2), cv2.HISTCMP_CORREL)\n",
    "    # print(assymetry)\n",
    "\n",
    "    # B feature - Border\n",
    "    perimeter = 2 * pi * (radius/100)\n",
    "    roundness = 4 * pi * (radius/100)/(perimeter**2)\n",
    "    # print(roundness)\n",
    "\n",
    "    # C feature - Color\n",
    "    r = image[:, :, 0].mean()\n",
    "    g = image[:, :, 1].mean()\n",
    "    b = image[:, :, 2].mean()\n",
    "\n",
    "    # D feature - Diameter\n",
    "    d = math.sqrt((4 * (pi * ((radius/100)**2)))/pi)\n",
    "    return a, d, r, g, b, roundness"
   ],
   "metadata": {
    "collapsed": false,
    "pycharm": {
     "name": "#%%\n"
    }
   }
  },
  {
   "cell_type": "code",
   "execution_count": 5,
   "outputs": [],
   "source": [
    "dataset = pd.DataFrame(columns= [\"assymetry\", \"border\", \"diameter\", \"color_r\", \"color_g\", \"color_b\", \"label\"])\n",
    "\n",
    "for path,d,f in os.walk(dir):\n",
    "    if len(f) > 0:  # verifica se f é um arquivo válido\n",
    "        for i in f:\n",
    "            if i.endswith('.jpg') or i.endswith('.png'):\n",
    "                img = path + '\\\\' +i\n",
    "                image = cv2.imread(img)\n",
    "                # Convert RGB image to grayscale\n",
    "                image_gray = cv2.cvtColor(image, cv2.COLOR_RGB2GRAY)\n",
    "                # Generate histogram of projection in X and Y axes to calculate assymetry\n",
    "                contours, hierarchy = cv2.findContours(image_gray, 2, 1)\n",
    "                # print(len(contours))\n",
    "                cnt = contours\n",
    "                for j in range(1):\n",
    "                    (x, y), radius = cv2.minEnclosingCircle(cnt[j])\n",
    "                    center = (int(x), int(y))\n",
    "                    radius = int(radius)\n",
    "                    # plt.text(x-21, y+15, '+', fontsize=25, color='red')\n",
    "                    # plt.text(10, -10, 'Centro: ' +str(center), fontsize=11, color='red')\n",
    "                    # plt.text(840, -10, 'Diâmetro: ' + str((radius*2)/100)+'mm', fontsize=11, color='red')\n",
    "                    # plt.Circle((10, -10), 7.2, color='blue')\n",
    "                    # plt.imshow(image_gray, cmap='gray')\n",
    "                    # plt.show()\n",
    "                    a, d, r, g, b, roundness = extractFeatures(image_gray, radius)\n",
    "                    if img.__contains__('melanoma'):\n",
    "                        dataset.loc[len(dataset)] = [a, roundness, d, r, g, b, 1]\n",
    "                    else:\n",
    "                        dataset.loc[len(dataset)] = [a, roundness, d, r, g, b, 0]\n",
    "\n",
    "dataset.to_csv('dataset_melanoma.csv')"
   ],
   "metadata": {
    "collapsed": false,
    "pycharm": {
     "name": "#%%\n"
    }
   }
  },
  {
   "cell_type": "code",
   "execution_count": 28,
   "outputs": [
    {
     "name": "stdout",
     "output_type": "stream",
     "text": [
      "Accuracy: 84.21\n",
      "[[28  4]\n",
      " [ 5 20]]\n"
     ]
    }
   ],
   "source": [
    "from sklearn.tree import DecisionTreeClassifier\n",
    "from sklearn.svm import SVC\n",
    "from sklearn.ensemble import RandomForestClassifier\n",
    "# Classification of dataset\n",
    "from sklearn.feature_selection import RFECV\n",
    "from imblearn.over_sampling import SMOTE\n",
    "from sklearn.metrics import accuracy_score, confusion_matrix\n",
    "from sklearn.svm import LinearSVC\n",
    "from sklearn.model_selection import train_test_split\n",
    "\n",
    "labels = dataset.iloc[:, 6]\n",
    "datasets = dataset.drop(columns=['label'], axis=1)\n",
    "\n",
    "# selector = RFECV(LinearSVC(), cv=10, scoring='f1_weighted')\n",
    "# sm = SMOTE(random_state=42) # Oversampling\n",
    "#sm = NearMiss(random_state=42) # Undersampling\n",
    "\n",
    "# datasets, labels = sm.fit_resample(datasets,labels)\n",
    "\n",
    "train, test, train_tlabels, test_labels = train_test_split(datasets,\n",
    "                                                           labels,\n",
    "                                                           test_size=0.33)\n",
    "\n",
    "\n",
    "# model = RandomForestClassifier()\n",
    "# model = DecisionTreeClassifier()\n",
    "# model = SVC(probability=True)\n",
    "model = LinearSVC(max_iter=120000, dual=False)\n",
    "\n",
    "model.fit(train, train_tlabels)\n",
    "y_pred = model.predict(test)\n",
    "\n",
    "# Evaluation\n",
    "acc = accuracy_score(test_labels, y_pred)\n",
    "print(\"Accuracy: {:.2f}\".format(acc*100))\n",
    "\n",
    "print(confusion_matrix(test_labels, y_pred))"
   ],
   "metadata": {
    "collapsed": false,
    "pycharm": {
     "name": "#%%\n"
    }
   }
  },
  {
   "cell_type": "code",
   "execution_count": null,
   "outputs": [],
   "source": [],
   "metadata": {
    "collapsed": false,
    "pycharm": {
     "name": "#%%\n"
    }
   }
  }
 ],
 "metadata": {
  "kernelspec": {
   "name": "python3",
   "language": "python",
   "display_name": "Python 3 (ipykernel)"
  },
  "language_info": {
   "codemirror_mode": {
    "name": "ipython",
    "version": 2
   },
   "file_extension": ".py",
   "mimetype": "text/x-python",
   "name": "python",
   "nbconvert_exporter": "python",
   "pygments_lexer": "ipython2",
   "version": "2.7.6"
  }
 },
 "nbformat": 4,
 "nbformat_minor": 0
}